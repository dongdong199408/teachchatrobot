{
 "cells": [
  {
   "cell_type": "code",
   "execution_count": 22,
   "metadata": {},
   "outputs": [],
   "source": [
    "import  time \n",
    "import gensim\n",
    "import numpy as np\n",
    "from encoder2decoder import build_model\n",
    "from data_process import DataProcess\n",
    "import conf\n",
    "import warnings\n",
    "warnings.filterwarnings('ignore')"
   ]
  },
  {
   "cell_type": "code",
   "execution_count": 23,
   "metadata": {},
   "outputs": [
    {
     "name": "stdout",
     "output_type": "stream",
     "text": [
      "0.005686283111572266\n"
     ]
    }
   ],
   "source": [
    "t1=time.time()\n",
    "dec_vec_model = gensim.models.Word2Vec.load(r'model/decoder_vector.m')\n",
    "dec_useful_words = tuple(dec_vec_model.wv.vocab.keys())\n",
    "t2=time.time()\n",
    "print(t2-t1)"
   ]
  },
  {
   "cell_type": "code",
   "execution_count": 52,
   "metadata": {},
   "outputs": [],
   "source": [
    "de_embddings=[]\n",
    "for w in dec_useful_words:\n",
    "    de_embddings.append(dec_vec_model.wv[w])\n",
    "decode_embddings=np.array(de_embddings)"
   ]
  },
  {
   "cell_type": "code",
   "execution_count": 53,
   "metadata": {},
   "outputs": [],
   "source": [
    "#得到decode embdding的转至，便于normlize\n",
    "decode_embdding=decode_embddings.T\n",
    "#回复embdding状态\n",
    "decode_embddings=((decode_embdding-np.mean(decode_embdding,axis=0))/(np.std(decode_embdding,axis=0))).T\n",
    "#加入'__PAD__' embdding\n",
    "decode_embddings=np.concatenate((np.zeros(conf.dec_embedding_length).reshape(1,conf.dec_embedding_length),decode_embddings),axis=0)"
   ]
  },
  {
   "cell_type": "code",
   "execution_count": 38,
   "metadata": {},
   "outputs": [],
   "source": [
    "def load_model(model_path):\n",
    "\n",
    "    model = build_model(training=False)\n",
    "\n",
    "    model.load_weights(model_path)\n",
    "\n",
    "    return model\n",
    "def data_to_padding_ids(text_list):\n",
    "\n",
    "    data_process = DataProcess(use_word2cut=True)\n",
    "    enc_vocab = data_process.read_vocabulary(data_process.enc_vocab_file)\n",
    "\n",
    "    enc_padding_ids_list = []\n",
    "\n",
    "    for text in text_list:\n",
    "\n",
    "        words = data_process.text_cut_object.cut([text.strip()])\n",
    "        words_list = words[0].strip().split()\n",
    "\n",
    "        enc_ids = [enc_vocab.get(word, data_process.__UNK__) for word in words_list]\n",
    "\n",
    "        if len(enc_ids) > data_process.enc_input_length:\n",
    "            enc_ids = enc_ids[:data_process.enc_input_length]\n",
    "\n",
    "        enc_length = len(enc_ids)\n",
    "\n",
    "        enc_padding_ids = []\n",
    "        enc_padding_ids.extend([0] * (data_process.enc_input_length - enc_length))\n",
    "        enc_padding_ids.extend([int(enc_ids[enc_length - l - 1]) for l in range(enc_length)])\n",
    "\n",
    "        enc_padding_ids_list.append(np.array(enc_padding_ids))\n",
    "\n",
    "    return np.array(enc_padding_ids_list)"
   ]
  },
  {
   "cell_type": "code",
   "execution_count": 39,
   "metadata": {},
   "outputs": [],
   "source": [
    " model = load_model(\"model/seq2seq_model_weights.h5\")"
   ]
  },
  {
   "cell_type": "code",
   "execution_count": 55,
   "metadata": {},
   "outputs": [
    {
     "name": "stdout",
     "output_type": "stream",
     "text": [
      "__GO__\n",
      "我\n",
      "愿意\n",
      "__EOS__\n",
      "__PAD__\n",
      "__PAD__\n",
      "__PAD__\n",
      "__PAD__\n",
      "__PAD__\n",
      "__PAD__\n",
      "预测用时3.694567918777466 %s\n"
     ]
    }
   ],
   "source": [
    "t1=time.time()\n",
    "text =[u\"你愿意嫁给我吗？\"]\n",
    "padding_ids = data_to_padding_ids(text)\n",
    "prediction = model.predict_on_batch(padding_ids)\n",
    "for i in range(0,10):\n",
    "    sum_mse=np.sum(np.square((prediction[0][i]-decode_embddings)),axis=1)\n",
    "    min_index=np.argmin(sum_mse)\n",
    "    if min_index==0:\n",
    "        word=\"__PAD__\"\n",
    "    else:\n",
    "        word=dec_useful_words[np.argmin(sum_mse)-1]\n",
    "    print(word)\n",
    "t2=time.time()\n",
    "print('预测用时{} %s'.format(t2-t1))"
   ]
  },
  {
   "cell_type": "code",
   "execution_count": null,
   "metadata": {},
   "outputs": [],
   "source": []
  }
 ],
 "metadata": {
  "kernelspec": {
   "display_name": "tensorflow",
   "language": "python",
   "name": "tensorflow"
  },
  "language_info": {
   "codemirror_mode": {
    "name": "ipython",
    "version": 3
   },
   "file_extension": ".py",
   "mimetype": "text/x-python",
   "name": "python",
   "nbconvert_exporter": "python",
   "pygments_lexer": "ipython3",
   "version": "3.6.8"
  }
 },
 "nbformat": 4,
 "nbformat_minor": 2
}
